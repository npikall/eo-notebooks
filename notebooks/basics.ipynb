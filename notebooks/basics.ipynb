{
 "cells": [
  {
   "cell_type": "markdown",
   "metadata": {},
   "source": [
    "## Data Acquisition\n",
    "In this notebook we will load some earth observation data from the Sentinel-2\n",
    "satellite and show some basic operations on the data. This includes visualizing\n",
    "the data, calculating the NDVI and exporting the data to a GeoTIFF file."
   ]
  },
  {
   "cell_type": "code",
   "execution_count": null,
   "metadata": {},
   "outputs": [],
   "source": [
    "from datetime import datetime, timedelta\n",
    "from pathlib import Path   # noqa\n",
    "\n",
    "import xarray as xr   # noqa\n",
    "import pystac_client\n",
    "import odc.stac\n",
    "import rioxarray  # noqa\n",
    "from odc.geo.geobox import GeoBox\n",
    "\n",
    "import matplotlib.pyplot as plt"
   ]
  },
  {
   "cell_type": "markdown",
   "metadata": {},
   "source": [
    "Before we start, we need to load the data. We will use ``odc-stac`` to obtain\n",
    "data from Earth Search by Element 84. Here we define the area of interest and\n",
    "the time frame, aswell as the EPSG code and the resolution.\n",
    "\n",
    "### Searching in the Catalog\n",
    "The module ``odc-stac`` provides access to free, open source satelite data.\n",
    "To retrieve the data, we must define  several parameters that specify the\n",
    "location and time period for the satellite data. Additionally, we must specify\n",
    "the data collection we wish to access, as multiple collections are available.\n",
    "In this example, we will use multispectral imagery from the Sentinel-2\n",
    "satellite."
   ]
  },
  {
   "cell_type": "code",
   "execution_count": null,
   "metadata": {},
   "outputs": [],
   "source": [
    "# Set up the geometry\n",
    "dx = 0.0006  # 60m resolution\n",
    "epsg = 4326\n",
    "\n",
    "# Set Spatial extent\n",
    "latmin, latmax = 47.8, 48\n",
    "lonmin, lonmax = 16.7, 16.9\n",
    "bounds = (lonmin, latmin, lonmax, latmax)\n",
    "\n",
    "# Set Temporal extent\n",
    "start_date = datetime(year=2024, month=5, day=1)\n",
    "end_date = start_date + timedelta(days=14)\n",
    "date_query = (\n",
    "    start_date.strftime(\"%Y-%m-%d\") + \"/\" + end_date.strftime(\"%Y-%m-%d\")\n",
    ")\n",
    "\n",
    "# Search for Sentinel-2 data\n",
    "items = (\n",
    "    pystac_client.Client.open(\"https://earth-search.aws.element84.com/v1\")\n",
    "    .search(\n",
    "        bbox=bounds,\n",
    "        collections=[\"sentinel-2-l2a\"],\n",
    "        datetime=date_query,\n",
    "        limit=100,\n",
    "    )\n",
    "    .item_collection()\n",
    ")\n",
    "print(len(items), \"scenes found\")"
   ]
  },
  {
   "cell_type": "markdown",
   "metadata": {},
   "source": [
    "We will now focus on the area south-east of Vienna, where the Nationalpark \n",
    "_Donauauen_ is situated. The time frame we are interested in is the beginning\n",
    "of May 2024. After passing these parameters to the `stac-catalog` we have found\n",
    "some scenes that we can use for our analysis. \n",
    "\n",
    "### Loading the Data\n",
    "Now we will load the data directly into an ``xarray`` dataset, which we can use\n",
    "to perform computations on the data. ``xarray`` is a powerful library for\n",
    "working with multi-dimensional arrays, making it well-suited for handling\n",
    "satellite data.\n",
    "\n",
    "First to get a grasp of what we can actually load from the catalog, we can \n",
    "inspect the items and find out what bands are available. We can find the bands \n",
    "in the assets of an item."
   ]
  },
  {
   "cell_type": "code",
   "execution_count": null,
   "metadata": {},
   "outputs": [],
   "source": [
    "# Print the bands available \n",
    "# (excluding the Jpeg2000 files, but they could be used aswell)\n",
    "for band in items[0].assets:\n",
    "    if \"-jp2\" not in band:\n",
    "        print(band)\n",
    "\n",
    "# Inspect the first item interactively in the notebook\n",
    "items[0]"
   ]
  },
  {
   "cell_type": "markdown",
   "metadata": {},
   "source": [
    "Here's how we can load the data using odc-stac and xarray:"
   ]
  },
  {
   "cell_type": "code",
   "execution_count": null,
   "metadata": {},
   "outputs": [],
   "source": [
    "# define a geobox for my region\n",
    "geobox = GeoBox.from_bbox(bounds, crs=f\"epsg:{epsg}\", resolution=dx)\n",
    "\n",
    "# lazily combine items into a datacube\n",
    "dc = odc.stac.load(\n",
    "    items,\n",
    "    bands=[\"scl\", \"red\", \"green\", \"blue\", \"nir\"],\n",
    "    chunks={'time': 5, 'x': 600, 'y': 600},\n",
    "    geobox=geobox,\n",
    "    resampling=\"bilinear\",\n",
    ")\n",
    "dc"
   ]
  },
  {
   "cell_type": "markdown",
   "metadata": {},
   "source": [
    "## Data Visualization\n",
    "### RGB Image\n",
    "With the image data now in our possession, we can proceed with computations\n",
    "and visualizations.\n",
    "\n",
    "First, we define a mask to exclude cloud cover and areas with missing data.\n",
    "Subsequently, we create a composite median image, where each pixel value\n",
    "represents the median value across all the scenes we have identified. This\n",
    "approach helps to eliminate clouds and outliers present in some of the images,\n",
    "thereby providing a clearer and more representative visualization of the scene.\n",
    "\n",
    "Keep in mind, that the color vector in each pixel is:\n",
    "$$\n",
    "\\vec{c} = \\begin{bmatrix} Red \\\\ Green \\\\ Blue \\end{bmatrix}\n",
    "$$\n",
    "This is evident in the following code snippet, where we plot the RGB image. \n",
    "The color vector is created by stacking the red, green, and blue bands of the\n",
    "image. Instead of useing the median value, we could also use the data of a \n",
    "specific date."
   ]
  },
  {
   "cell_type": "code",
   "execution_count": null,
   "metadata": {},
   "outputs": [],
   "source": [
    "# define a mask for valid pixels (non-cloud)\n",
    "def is_valid_pixel(data):\n",
    "    # include only vegetated, not_vegitated, water, and snow\n",
    "    return ((data > 3) & (data < 7)) | (data == 11)\n",
    "\n",
    "\n",
    "dc[\"valid\"] = is_valid_pixel(dc.scl)"
   ]
  },
  {
   "cell_type": "code",
   "execution_count": null,
   "metadata": {},
   "outputs": [],
   "source": [
    "# compute the masked median\n",
    "rgb_median = (\n",
    "    dc[[\"red\", \"green\", \"blue\"]]\n",
    "    .where(dc.valid)\n",
    "    .to_dataarray(dim=\"band\")\n",
    "    .median(dim=\"time\")\n",
    "    .astype(int)\n",
    ")\n",
    "\n",
    "# plot the median composite\n",
    "title_rgb = (\n",
    "    \"RGB - Median Composite\"\n",
    "    + f\"\\n{start_date.strftime('%d.%m.%Y')} - {end_date.strftime('%d.%m.%Y')}\"\n",
    ")\n",
    "rgb_median.plot.imshow(robust=True).axes.set_title(title_rgb)\n",
    "plt.show()"
   ]
  },
  {
   "cell_type": "markdown",
   "metadata": {},
   "source": [
    "To better understand the data, that is used to create the RGB image, we can\n",
    "also plot the individual timestamps. This will give us a better understanding\n",
    "of the data and the changes over time. Since the cloud coverage is not the same\n",
    "for each image, the median composite image can be a better representation of \n",
    "the scene.\n",
    "\n",
    "You can also remove the resampling of the data, to see the original data, which\n",
    "have a lot of overlap. The resapmling can get rid of the overlap."
   ]
  },
  {
   "cell_type": "code",
   "execution_count": null,
   "metadata": {},
   "outputs": [],
   "source": [
    "# Resample to daily timestamps\n",
    "daily = dc.red.resample(time='1D').max()\n",
    "\n",
    "# Drop Images with no data\n",
    "daily = daily.dropna('time', how='any')\n",
    "\n",
    "# Plot the daily images of the red band\n",
    "daily.plot.imshow(robust=True, col='time', col_wrap=3)"
   ]
  },
  {
   "cell_type": "markdown",
   "metadata": {},
   "source": [
    "If you are interested in a specific date, you can also plot the data like \n",
    "explained in the following code snippet. "
   ]
  },
  {
   "cell_type": "code",
   "execution_count": null,
   "metadata": {},
   "outputs": [],
   "source": [
    "dc[['red', 'green', 'blue']].isel(time=3).to_array().plot.imshow(robust=True)"
   ]
  },
  {
   "cell_type": "markdown",
   "metadata": {},
   "source": [
    "### False Color Image\n",
    "In addition to the regular RGB Image, we can swap any of the bands from the\n",
    "visible spectrum with any other bands. In this specific case the red band has\n",
    "been changed to the near infrared band. This allows us to see vegetated areas\n",
    "more clearly, since they now appear in a bright red color. This is due to the\n",
    "fact that plants absorb regular red light while reflecting near infrared light."
   ]
  },
  {
   "cell_type": "code",
   "execution_count": null,
   "metadata": {},
   "outputs": [],
   "source": [
    "# compute a false color image\n",
    "# near infrared instead of red\n",
    "fc_median = (\n",
    "    dc[['nir', 'green', 'blue']]\n",
    "    .where(dc.valid)\n",
    "    .to_dataarray(dim=\"band\")\n",
    "    .transpose(..., \"band\")\n",
    "    .median(dim=\"time\")\n",
    "    .astype(int)\n",
    ")\n",
    "\n",
    "title_fc = (\n",
    "    \"False color - Median Composite\"+\n",
    "    f\"\\n{start_date.strftime('%d.%m.%Y')} - {end_date.strftime('%d.%m.%Y')}\"\n",
    ")\n",
    "fc_median.plot.imshow(robust=True).axes.set_title(title_fc)\n",
    "plt.show()"
   ]
  },
  {
   "cell_type": "markdown",
   "metadata": {},
   "source": [
    "## Histogram\n",
    "To get a better understanding of the data, we can plot a also plot the \n",
    "histogram of the data. This will give us an overview of the distribution of the\n",
    "pixel values in the image. This can be useful to identify outliers or to manipulate\n",
    "the data in a way that the contrast is increased in our visualization.\n",
    "\n",
    "The `robust` parameter is used to exclude the 2% of the data with the highest\n",
    "and lowest values, which can help to improve the visibility of the histogram.\n",
    "It usually makes the visualization much better. If it does not work, you have\n",
    "to resort to manual clipping of the data or other contarst enhancing methods."
   ]
  },
  {
   "cell_type": "code",
   "execution_count": null,
   "metadata": {},
   "outputs": [],
   "source": [
    "# Plot histograms of RGB bands\n",
    "fig, ax = plt.subplots()\n",
    "for band in [\"red\", \"green\", \"blue\"]:\n",
    "    dc[band].median(\"time\").plot.hist(\n",
    "        bins=100, ax=ax, alpha=0.5, label=band, color=band\n",
    "    )\n",
    "ax.legend()\n",
    "ax.set_title(\"Histograms of RGB bands\")\n",
    "plt.show()"
   ]
  },
  {
   "cell_type": "markdown",
   "metadata": {},
   "source": [
    "### NDVI Image\n",
    "To get an first impression of the data, we can calculate the NDVI (Normalized \n",
    "Difference Vegetation Index) and plot it. The NDVI is calculated by useing the\n",
    "following formula.\n",
    "\n",
    "$$\n",
    "NDVI = \\frac{NIR - Red}{NIR + Red}\n",
    "$$\n",
    "\n",
    "This gives us a good overview of the vegetation in the area. The values can\n",
    "range from -1 to 1 where the following meanings are associated with these\n",
    "values:\n",
    "\n",
    "- -1 to 0 indicate dead plants or inanimate objects\n",
    "- 0 to 0.33 are unhealthy plants\n",
    "- 0.33 to 0.66 are moderatly healthy plants\n",
    "- 0.66 to 1 are very healthy plants"
   ]
  },
  {
   "cell_type": "code",
   "execution_count": null,
   "metadata": {},
   "outputs": [],
   "source": [
    "# Normalized Difference Vegetation Index (NDVI)\n",
    "def normalized_difference(a, b):\n",
    "    return (a - b * 1.0) / (a + b)\n",
    "\n",
    "\n",
    "ndvi = normalized_difference(dc.nir, dc.red)\n",
    "ndvi.median(dim=\"time\").plot.imshow(\n",
    "    cmap=\"RdYlGn\", vmin=-1, vmax=1\n",
    ").axes.set_title(\"NDVI\")\n",
    "plt.show()"
   ]
  },
  {
   "cell_type": "markdown",
   "metadata": {},
   "source": [
    "## Exporting the Data\n",
    "After we have visualized the data, we can export it to a GeoTIFF file. This\n",
    "will allow us to use the data in other GIS software or to share it with others."
   ]
  },
  {
   "cell_type": "code",
   "execution_count": null,
   "metadata": {},
   "outputs": [],
   "source": [
    "# Select data that should be saved\n",
    "# save = dc.sel(time=\"2024-05-09\", method=\"nearest\")\n",
    "\n",
    "# Save the data to a GeoTIFF file\n",
    "# save.rio.to_raster(\n",
    "#     \"sentinel_2_2024_05_09.tif\", tiled=True, driver=\"GTiff\", compress=\"LZW\"\n",
    "# )"
   ]
  },
  {
   "cell_type": "code",
   "execution_count": null,
   "metadata": {},
   "outputs": [],
   "source": [
    "# Load the data again (for demonstration purposes)\n",
    "# loaded_data = xr.open_dataset(\"sentinel_2_2024_05_09.tif\", engine=\"rasterio\")\n",
    "# loaded_data"
   ]
  },
  {
   "cell_type": "markdown",
   "metadata": {},
   "source": [
    "If you want to load multiple images, have a read in the\n",
    "[xarray documentation](https://docs.xarray.dev/en/stable/generated/xarray.open_mfdataset.html)\n",
    "to see what else is possible. "
   ]
  }
 ],
 "metadata": {
  "kernelspec": {
   "display_name": "Python 3",
   "language": "python",
   "name": "python3"
  },
  "language_info": {
   "codemirror_mode": {
    "name": "ipython",
    "version": 3
   },
   "file_extension": ".py",
   "mimetype": "text/x-python",
   "name": "python",
   "nbconvert_exporter": "python",
   "pygments_lexer": "ipython3",
   "version": "3.11.11"
  }
 },
 "nbformat": 4,
 "nbformat_minor": 4
}
